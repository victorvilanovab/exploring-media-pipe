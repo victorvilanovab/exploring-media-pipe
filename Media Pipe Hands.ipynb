{
 "cells": [
  {
   "cell_type": "markdown",
   "metadata": {},
   "source": [
    "## Dependencies"
   ]
  },
  {
   "cell_type": "code",
   "execution_count": 30,
   "metadata": {},
   "outputs": [],
   "source": [
    "import mediapipe as mp\n",
    "import cv2\n",
    "import numpy as np\n",
    "import time\n",
    "import math"
   ]
  },
  {
   "cell_type": "code",
   "execution_count": 2,
   "metadata": {},
   "outputs": [],
   "source": [
    "mp_drawing = mp.solutions.drawing_utils\n",
    "mp_holistic = mp.solutions.holistic"
   ]
  },
  {
   "cell_type": "code",
   "execution_count": 17,
   "metadata": {},
   "outputs": [],
   "source": [
    "cap = cv2.VideoCapture(0)\n",
    "while cap.isOpened():\n",
    "    ret, frame = cap.read()\n",
    "    cv2.imshow('Raw Webcam Feed', frame)\n",
    "    \n",
    "    if cv2.waitKey(10) & 0xFF == ord('q'):\n",
    "        break\n",
    "        \n",
    "cap.release()\n",
    "cv2.destroyAllWindows()\n",
    "        "
   ]
  },
  {
   "cell_type": "code",
   "execution_count": 11,
   "metadata": {},
   "outputs": [],
   "source": [
    "#Make Detections from freed"
   ]
  },
  {
   "cell_type": "code",
   "execution_count": 3,
   "metadata": {},
   "outputs": [],
   "source": [
    "class Ball():\n",
    "    def __init__(self, image, x, y, radius, xVel, yVel, color):\n",
    "        self.image = image\n",
    "        self.ball = cv2.circle(image, (x,y), radius7, color, thickness)\n",
    "        self.y = y"
   ]
  },
  {
   "cell_type": "code",
   "execution_count": 70,
   "metadata": {},
   "outputs": [],
   "source": [
    "cap = cv2.VideoCapture(0)\n",
    "t=0\n",
    "with mp_holistic.Holistic(static_image_mode=False, min_detection_confidence=0.5, min_tracking_confidence=0.5) as holistic:\n",
    "    while cap.isOpened() and t<1000:\n",
    "        ret, frame = cap.read()\n",
    "        width = int(cap.get(3))\n",
    "        height = int(cap.get(4))\n",
    "        #print(f\"Width:{width}/\" + f\"Height:{height}\")\n",
    "        \n",
    "        \n",
    "        image = cv2.cvtColor(frame, cv2.COLOR_BGR2RGB)\n",
    "        results = holistic.process(image)\n",
    "        \n",
    "        image = cv2.cvtColor(image, cv2.COLOR_RGB2BGR)\n",
    "        #Draw left_hand_landmarks\n",
    "        mp_drawing.draw_landmarks(image, results.left_hand_landmarks, mp_holistic.HAND_CONNECTIONS)\n",
    "        \n",
    "        #Draw right_hand_landmarks\n",
    "        mp_drawing.draw_landmarks(image, results.right_hand_landmarks, mp_holistic.HAND_CONNECTIONS)\n",
    "        \n",
    "        \n",
    "        \n",
    "        left_hand_x = 0\n",
    "        left_hand_y = 0\n",
    "        right_hand_x = 0\n",
    "        right_hand_y = 0\n",
    "        \n",
    "        \n",
    "        try:\n",
    "            \n",
    "            for i in range(len(results.left_hand_landmarks.landmark)):\n",
    "                left_hand_x = left_hand_x + results.left_hand_landmarks.landmark[i].x \n",
    "                left_hand_y = left_hand_y + results.left_hand_landmarks.landmark[i].y\n",
    "            for i in range(len(results.right_hand_landmarks.landmark)):\n",
    "                right_hand_x = right_hand_x + results.right_hand_landmarks.landmark[i].x\n",
    "                right_hand_y = right_hand_y + results.right_hand_landmarks.landmark[i].y\n",
    "    \n",
    "            left_hand_x = left_hand_x / len(results.left_hand_landmarks.landmark) * width\n",
    "            left_hand_y = left_hand_y / len(results.left_hand_landmarks.landmark) * height\n",
    "            right_hand_x = right_hand_x / len(results.right_hand_landmarks.landmark) * width\n",
    "            right_hand_y = right_hand_y / len(results.right_hand_landmarks.landmark) * height\n",
    "            \n",
    "            #draw a line\n",
    "            image = cv2.line(image, (int(left_hand_x),int(left_hand_y)),\n",
    "                         (int(right_hand_x), int(right_hand_y)), \n",
    "                        (255, 0, 0), 10)\n",
    "            \n",
    "            \n",
    "            m_reta = (left_hand_y - right_hand_y)/ (left_hand_x - right_hand_x) \n",
    "            \n",
    "            #x_ = np.random.randint(right_hand_x, left_hand_x)\n",
    "            x_pm = int((left_hand_x + right_hand_x)/2)\n",
    "            y_pm = int((left_hand_y + right_hand_y)/2)\n",
    "            \n",
    "            \n",
    "            # Radius of circle\n",
    "            radius = 20\n",
    "            \n",
    "            a = -2\n",
    "            if t<2:\n",
    "                x=x_pm\n",
    "            else:\n",
    "                x = x_pm - a*math.sin(math.atan(m_reta))*t**2/2\n",
    "            y = -m_reta*(x-left_hand_x) + (left_hand_y-radius)\n",
    "            center_coordinates = (int(x), int(y))\n",
    "\n",
    "            # Blue color in BGR\n",
    "            color = (255, 0, 0)\n",
    "\n",
    "            # Line thickness of 2 px\n",
    "            thickness = 2\n",
    "\n",
    "            # Using cv2.circle() method\n",
    "            # Draw a circle with blue line borders of thickness of 2 px\n",
    "            image = cv2.circle(image, center_coordinates, radius, color, thickness)\n",
    "            \n",
    "        except:\n",
    "            pass\n",
    "            \n",
    "        \n",
    "        t+=1\n",
    "    \n",
    "        \n",
    "        cv2.imshow('Raw Webcam Feed', image)\n",
    "        if cv2.waitKey(10) & 0xFF == ord('q'):\n",
    "            break\n",
    "        \n",
    "cap.release()\n",
    "cv2.destroyAllWindows()"
   ]
  },
  {
   "cell_type": "code",
   "execution_count": 38,
   "metadata": {},
   "outputs": [],
   "source": [
    "x = x_pm - a*math.cos(m_reta)*t**2/2"
   ]
  },
  {
   "cell_type": "code",
   "execution_count": 44,
   "metadata": {},
   "outputs": [
    {
     "data": {
      "text/plain": [
       "201.05127085015576"
      ]
     },
     "execution_count": 44,
     "metadata": {},
     "output_type": "execute_result"
    }
   ],
   "source": [
    "y = (y_pm - radius) + a*math.sin(m_reta) * t**2/2\n",
    "y"
   ]
  },
  {
   "cell_type": "code",
   "execution_count": 34,
   "metadata": {},
   "outputs": [
    {
     "data": {
      "text/plain": [
       "315"
      ]
     },
     "execution_count": 34,
     "metadata": {},
     "output_type": "execute_result"
    }
   ],
   "source": [
    "x_pm"
   ]
  },
  {
   "cell_type": "code",
   "execution_count": 35,
   "metadata": {},
   "outputs": [
    {
     "data": {
      "text/plain": [
       "29.200000000000145"
      ]
     },
     "execution_count": 35,
     "metadata": {},
     "output_type": "execute_result"
    }
   ],
   "source": [
    "t"
   ]
  },
  {
   "cell_type": "code",
   "execution_count": null,
   "metadata": {},
   "outputs": [],
   "source": [
    "int(x/len(results.left_hand_landmarks.landmark) * 500)"
   ]
  },
  {
   "cell_type": "code",
   "execution_count": null,
   "metadata": {},
   "outputs": [],
   "source": [
    "print(results.left_hand_landmarks.landmark)"
   ]
  }
 ],
 "metadata": {
  "kernelspec": {
   "display_name": "Python 3",
   "language": "python",
   "name": "python3"
  },
  "language_info": {
   "codemirror_mode": {
    "name": "ipython",
    "version": 3
   },
   "file_extension": ".py",
   "mimetype": "text/x-python",
   "name": "python",
   "nbconvert_exporter": "python",
   "pygments_lexer": "ipython3",
   "version": "3.8.5"
  }
 },
 "nbformat": 4,
 "nbformat_minor": 4
}
